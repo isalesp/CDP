{
  "nbformat": 4,
  "nbformat_minor": 0,
  "metadata": {
    "colab": {
      "provenance": [],
      "authorship_tag": "ABX9TyPqLwfPcW8Zeb29IjtSf3z4"
    },
    "kernelspec": {
      "name": "python3",
      "display_name": "Python 3"
    },
    "language_info": {
      "name": "python"
    }
  },
  "cells": [
    {
      "cell_type": "markdown",
      "source": [
        "<p align='center'>\n",
        "<img width='300' height='200' src= 'https://raw.githubusercontent.com/isalesp/CDP/1a020a997f3abb1f8104d73478d205547ccb621b/CDP.png'>\n",
        "<p/>\n",
        "\n",
        "\n",
        "\n"
      ],
      "metadata": {
        "id": "mCoKx7fbGLn3"
      }
    },
    {
      "cell_type": "markdown",
      "source": [
        "#**2022 Cities Climate Hazards by Magnitude of Impact**\n",
        "\n"
      ],
      "metadata": {
        "id": "R3WVgKBWCyAb"
      }
    },
    {
      "cell_type": "markdown",
      "source": [
        "#Introduction"
      ],
      "metadata": {
        "id": "gSWYq7j-Itgv"
      }
    },
    {
      "cell_type": "markdown",
      "source": [
        "CDP is a global non-profit that runs the world’s environmental disclosure system for companies, cities, states and regions.\n",
        "\n",
        "Founded in 2000 and working with more than 680 financial institutions with over $130 trillion in assets, CDP pioneered using capital markets and corporate procurement to motivate companies to disclose their environmental impacts, and to reduce greenhouse gas emissions, safeguard water resources and protect forests.\n",
        "\n",
        "Nearly 20,000 organizations around the world disclosed data through CDP in 2022, including more than 18,700 companies worth half of global market capitalization, and over 1,100 cities, states and regions. Fully TCFD aligned, CDP holds the largest environmental database in the world, and CDP scores are widely used to drive investment and procurement decisions towards a zero carbon, sustainable and resilient economy.\n",
        "\n",
        "CDP is a founding member of the Science Based Targets initiative, We Mean Business Coalition, The Investor Agenda and the Net Zero Asset Managers initiative.\n",
        "\n",
        "PROJECT IN PROCESS"
      ],
      "metadata": {
        "id": "fpPBq5nsIwS9"
      }
    },
    {
      "cell_type": "markdown",
      "source": [
        "##**Environment**\n"
      ],
      "metadata": {
        "id": "oToKTe5QKNee"
      }
    },
    {
      "cell_type": "code",
      "source": [
        "import pandas as pd\n",
        "import numpy as np\n",
        "import matplotlib as mpl\n",
        "import matplotlib.pyplot as plt\n",
        "mpl.style.use('ggplot')\n",
        "\n",
        "!pip install geopandas\n",
        "import folium\n",
        "import geopandas as gpd"
      ],
      "metadata": {
        "colab": {
          "base_uri": "https://localhost:8080/"
        },
        "id": "5Hl4L_GsFQMr",
        "outputId": "be8190a9-a273-4cbe-9177-30b981eae110"
      },
      "execution_count": 3,
      "outputs": [
        {
          "output_type": "stream",
          "name": "stdout",
          "text": [
            "Looking in indexes: https://pypi.org/simple, https://us-python.pkg.dev/colab-wheels/public/simple/\n",
            "Collecting geopandas\n",
            "  Downloading geopandas-0.12.2-py3-none-any.whl (1.1 MB)\n",
            "\u001b[2K     \u001b[90m━━━━━━━━━━━━━━━━━━━━━━━━━━━━━━━━━━━━━━━━\u001b[0m \u001b[32m1.1/1.1 MB\u001b[0m \u001b[31m27.0 MB/s\u001b[0m eta \u001b[36m0:00:00\u001b[0m\n",
            "\u001b[?25hCollecting fiona>=1.8\n",
            "  Downloading Fiona-1.9.1-cp38-cp38-manylinux_2_17_x86_64.manylinux2014_x86_64.whl (16.0 MB)\n",
            "\u001b[2K     \u001b[90m━━━━━━━━━━━━━━━━━━━━━━━━━━━━━━━━━━━━━━━━\u001b[0m \u001b[32m16.0/16.0 MB\u001b[0m \u001b[31m29.9 MB/s\u001b[0m eta \u001b[36m0:00:00\u001b[0m\n",
            "\u001b[?25hCollecting pyproj>=2.6.1.post1\n",
            "  Downloading pyproj-3.4.1-cp38-cp38-manylinux_2_17_x86_64.manylinux2014_x86_64.whl (7.8 MB)\n",
            "\u001b[2K     \u001b[90m━━━━━━━━━━━━━━━━━━━━━━━━━━━━━━━━━━━━━━━━\u001b[0m \u001b[32m7.8/7.8 MB\u001b[0m \u001b[31m72.1 MB/s\u001b[0m eta \u001b[36m0:00:00\u001b[0m\n",
            "\u001b[?25hRequirement already satisfied: shapely>=1.7 in /usr/local/lib/python3.8/dist-packages (from geopandas) (2.0.1)\n",
            "Requirement already satisfied: pandas>=1.0.0 in /usr/local/lib/python3.8/dist-packages (from geopandas) (1.3.5)\n",
            "Requirement already satisfied: packaging in /usr/local/lib/python3.8/dist-packages (from geopandas) (23.0)\n",
            "Requirement already satisfied: setuptools in /usr/local/lib/python3.8/dist-packages (from fiona>=1.8->geopandas) (57.4.0)\n",
            "Requirement already satisfied: certifi in /usr/local/lib/python3.8/dist-packages (from fiona>=1.8->geopandas) (2022.12.7)\n",
            "Collecting munch>=2.3.2\n",
            "  Downloading munch-2.5.0-py2.py3-none-any.whl (10 kB)\n",
            "Collecting cligj>=0.5\n",
            "  Downloading cligj-0.7.2-py3-none-any.whl (7.1 kB)\n",
            "Collecting click-plugins>=1.0\n",
            "  Downloading click_plugins-1.1.1-py2.py3-none-any.whl (7.5 kB)\n",
            "Collecting click~=8.0\n",
            "  Downloading click-8.1.3-py3-none-any.whl (96 kB)\n",
            "\u001b[2K     \u001b[90m━━━━━━━━━━━━━━━━━━━━━━━━━━━━━━━━━━━━━━━━\u001b[0m \u001b[32m96.6/96.6 KB\u001b[0m \u001b[31m12.1 MB/s\u001b[0m eta \u001b[36m0:00:00\u001b[0m\n",
            "\u001b[?25hRequirement already satisfied: attrs>=19.2.0 in /usr/local/lib/python3.8/dist-packages (from fiona>=1.8->geopandas) (22.2.0)\n",
            "Requirement already satisfied: python-dateutil>=2.7.3 in /usr/local/lib/python3.8/dist-packages (from pandas>=1.0.0->geopandas) (2.8.2)\n",
            "Requirement already satisfied: numpy>=1.17.3 in /usr/local/lib/python3.8/dist-packages (from pandas>=1.0.0->geopandas) (1.21.6)\n",
            "Requirement already satisfied: pytz>=2017.3 in /usr/local/lib/python3.8/dist-packages (from pandas>=1.0.0->geopandas) (2022.7.1)\n",
            "Requirement already satisfied: six in /usr/local/lib/python3.8/dist-packages (from munch>=2.3.2->fiona>=1.8->geopandas) (1.15.0)\n",
            "Installing collected packages: pyproj, munch, click, cligj, click-plugins, fiona, geopandas\n",
            "  Attempting uninstall: click\n",
            "    Found existing installation: click 7.1.2\n",
            "    Uninstalling click-7.1.2:\n",
            "      Successfully uninstalled click-7.1.2\n",
            "\u001b[31mERROR: pip's dependency resolver does not currently take into account all the packages that are installed. This behaviour is the source of the following dependency conflicts.\n",
            "flask 1.1.4 requires click<8.0,>=5.1, but you have click 8.1.3 which is incompatible.\u001b[0m\u001b[31m\n",
            "\u001b[0mSuccessfully installed click-8.1.3 click-plugins-1.1.1 cligj-0.7.2 fiona-1.9.1 geopandas-0.12.2 munch-2.5.0 pyproj-3.4.1\n"
          ]
        }
      ]
    },
    {
      "cell_type": "code",
      "source": [
        "url= 'https://raw.githubusercontent.com/isalesp/CDP/abe6804a1166ce49a9e8f4af6fc755d81ceeced2/Climate_Hazards.csv'"
      ],
      "metadata": {
        "id": "pEQYC_VGLkfZ"
      },
      "execution_count": 8,
      "outputs": []
    },
    {
      "cell_type": "code",
      "source": [
        "data= pd.read_csv(url)"
      ],
      "metadata": {
        "id": "OdmV61wFL1Ck"
      },
      "execution_count": 9,
      "outputs": []
    },
    {
      "cell_type": "code",
      "source": [
        "data.shape"
      ],
      "metadata": {
        "colab": {
          "base_uri": "https://localhost:8080/"
        },
        "id": "vWFNfdR2MApr",
        "outputId": "44bbfb7f-75b2-4f65-cd78-71dcc0b2c26d"
      },
      "execution_count": 10,
      "outputs": [
        {
          "output_type": "execute_result",
          "data": {
            "text/plain": [
              "(3866, 26)"
            ]
          },
          "metadata": {},
          "execution_count": 10
        }
      ]
    },
    {
      "cell_type": "code",
      "source": [
        "data.dtypes"
      ],
      "metadata": {
        "colab": {
          "base_uri": "https://localhost:8080/"
        },
        "id": "zTPL5ca9MDBL",
        "outputId": "4151f3ba-9f3b-40be-cfeb-54fefcedc787"
      },
      "execution_count": 11,
      "outputs": [
        {
          "output_type": "execute_result",
          "data": {
            "text/plain": [
              "Reporting Year                                                                         object\n",
              "Organization Number                                                                     int64\n",
              "Organization Name                                                                      object\n",
              "City                                                                                   object\n",
              "Country                                                                                object\n",
              "CDP Region                                                                             object\n",
              "C40 City                                                                               object\n",
              "GCoM City                                                                              object\n",
              "Access                                                                                 object\n",
              "Climate-related hazards                                                                object\n",
              "Vulnerable population groups most exposed                                              object\n",
              "Sectors most exposed                                                                   object\n",
              "Describe the impacts on vulnerable populations and sectors                             object\n",
              "Proportion of population exposed to hazard                                             object\n",
              "Did this hazard significantly impact your jurisdiction before this reporting year?     object\n",
              "Current probability of hazard                                                          object\n",
              "Current magnitude of impact of hazard                                                  object\n",
              "Expected future change in hazard intensity                                             object\n",
              "Expected future change in hazard frequency                                             object\n",
              "Timeframe of expected future changes                                                   object\n",
              "Does the city have adaptation goal(s) and/or an adaptation plan?                       object\n",
              "What adaptation actions is the city implementing to address the hazard?                object\n",
              "Population                                                                              int64\n",
              "Population Year                                                                       float64\n",
              "City Location                                                                          object\n",
              "Last update                                                                            object\n",
              "dtype: object"
            ]
          },
          "metadata": {},
          "execution_count": 11
        }
      ]
    },
    {
      "cell_type": "code",
      "source": [
        "data.head(1)\n"
      ],
      "metadata": {
        "colab": {
          "base_uri": "https://localhost:8080/",
          "height": 326
        },
        "id": "irux8_QKOMwG",
        "outputId": "3b4b5a1c-4f3c-44fa-d2de-6004c7eb4c3e"
      },
      "execution_count": 14,
      "outputs": [
        {
          "output_type": "execute_result",
          "data": {
            "text/plain": [
              "  Reporting Year  Organization Number   Organization Name   City Country  \\\n",
              "0    Cities 2022                60216  Växjö Municipality  Växjö  Sweden   \n",
              "\n",
              "  CDP Region C40 City GCoM City  Access Climate-related hazards  ...  \\\n",
              "0     Europe       No       Yes  public     Heavy precipitation  ...   \n",
              "\n",
              "  Current magnitude of impact of hazard  \\\n",
              "0                                Medium   \n",
              "\n",
              "  Expected future change in hazard intensity  \\\n",
              "0                                 Increasing   \n",
              "\n",
              "  Expected future change in hazard frequency  \\\n",
              "0                                 Increasing   \n",
              "\n",
              "  Timeframe of expected future changes  \\\n",
              "0              Medium-term (2026-2050)   \n",
              "\n",
              "  Does the city have adaptation goal(s) and/or an adaptation plan?  \\\n",
              "0             Adaptation goal(s) and adaptation plan                 \n",
              "\n",
              "  What adaptation actions is the city implementing to address the hazard?  \\\n",
              "0  Green infrastructure,Other, please specify: re...                        \n",
              "\n",
              "  Population Population Year            City Location            Last update  \n",
              "0      95995          2021.0  POINT (14.8091 56.8777)  02/17/2023 2:51:02 AM  \n",
              "\n",
              "[1 rows x 26 columns]"
            ],
            "text/html": [
              "\n",
              "  <div id=\"df-3a01e6cb-38af-438f-89d8-6106cd358093\">\n",
              "    <div class=\"colab-df-container\">\n",
              "      <div>\n",
              "<style scoped>\n",
              "    .dataframe tbody tr th:only-of-type {\n",
              "        vertical-align: middle;\n",
              "    }\n",
              "\n",
              "    .dataframe tbody tr th {\n",
              "        vertical-align: top;\n",
              "    }\n",
              "\n",
              "    .dataframe thead th {\n",
              "        text-align: right;\n",
              "    }\n",
              "</style>\n",
              "<table border=\"1\" class=\"dataframe\">\n",
              "  <thead>\n",
              "    <tr style=\"text-align: right;\">\n",
              "      <th></th>\n",
              "      <th>Reporting Year</th>\n",
              "      <th>Organization Number</th>\n",
              "      <th>Organization Name</th>\n",
              "      <th>City</th>\n",
              "      <th>Country</th>\n",
              "      <th>CDP Region</th>\n",
              "      <th>C40 City</th>\n",
              "      <th>GCoM City</th>\n",
              "      <th>Access</th>\n",
              "      <th>Climate-related hazards</th>\n",
              "      <th>...</th>\n",
              "      <th>Current magnitude of impact of hazard</th>\n",
              "      <th>Expected future change in hazard intensity</th>\n",
              "      <th>Expected future change in hazard frequency</th>\n",
              "      <th>Timeframe of expected future changes</th>\n",
              "      <th>Does the city have adaptation goal(s) and/or an adaptation plan?</th>\n",
              "      <th>What adaptation actions is the city implementing to address the hazard?</th>\n",
              "      <th>Population</th>\n",
              "      <th>Population Year</th>\n",
              "      <th>City Location</th>\n",
              "      <th>Last update</th>\n",
              "    </tr>\n",
              "  </thead>\n",
              "  <tbody>\n",
              "    <tr>\n",
              "      <th>0</th>\n",
              "      <td>Cities 2022</td>\n",
              "      <td>60216</td>\n",
              "      <td>Växjö Municipality</td>\n",
              "      <td>Växjö</td>\n",
              "      <td>Sweden</td>\n",
              "      <td>Europe</td>\n",
              "      <td>No</td>\n",
              "      <td>Yes</td>\n",
              "      <td>public</td>\n",
              "      <td>Heavy precipitation</td>\n",
              "      <td>...</td>\n",
              "      <td>Medium</td>\n",
              "      <td>Increasing</td>\n",
              "      <td>Increasing</td>\n",
              "      <td>Medium-term (2026-2050)</td>\n",
              "      <td>Adaptation goal(s) and adaptation plan</td>\n",
              "      <td>Green infrastructure,Other, please specify: re...</td>\n",
              "      <td>95995</td>\n",
              "      <td>2021.0</td>\n",
              "      <td>POINT (14.8091 56.8777)</td>\n",
              "      <td>02/17/2023 2:51:02 AM</td>\n",
              "    </tr>\n",
              "  </tbody>\n",
              "</table>\n",
              "<p>1 rows × 26 columns</p>\n",
              "</div>\n",
              "      <button class=\"colab-df-convert\" onclick=\"convertToInteractive('df-3a01e6cb-38af-438f-89d8-6106cd358093')\"\n",
              "              title=\"Convert this dataframe to an interactive table.\"\n",
              "              style=\"display:none;\">\n",
              "        \n",
              "  <svg xmlns=\"http://www.w3.org/2000/svg\" height=\"24px\"viewBox=\"0 0 24 24\"\n",
              "       width=\"24px\">\n",
              "    <path d=\"M0 0h24v24H0V0z\" fill=\"none\"/>\n",
              "    <path d=\"M18.56 5.44l.94 2.06.94-2.06 2.06-.94-2.06-.94-.94-2.06-.94 2.06-2.06.94zm-11 1L8.5 8.5l.94-2.06 2.06-.94-2.06-.94L8.5 2.5l-.94 2.06-2.06.94zm10 10l.94 2.06.94-2.06 2.06-.94-2.06-.94-.94-2.06-.94 2.06-2.06.94z\"/><path d=\"M17.41 7.96l-1.37-1.37c-.4-.4-.92-.59-1.43-.59-.52 0-1.04.2-1.43.59L10.3 9.45l-7.72 7.72c-.78.78-.78 2.05 0 2.83L4 21.41c.39.39.9.59 1.41.59.51 0 1.02-.2 1.41-.59l7.78-7.78 2.81-2.81c.8-.78.8-2.07 0-2.86zM5.41 20L4 18.59l7.72-7.72 1.47 1.35L5.41 20z\"/>\n",
              "  </svg>\n",
              "      </button>\n",
              "      \n",
              "  <style>\n",
              "    .colab-df-container {\n",
              "      display:flex;\n",
              "      flex-wrap:wrap;\n",
              "      gap: 12px;\n",
              "    }\n",
              "\n",
              "    .colab-df-convert {\n",
              "      background-color: #E8F0FE;\n",
              "      border: none;\n",
              "      border-radius: 50%;\n",
              "      cursor: pointer;\n",
              "      display: none;\n",
              "      fill: #1967D2;\n",
              "      height: 32px;\n",
              "      padding: 0 0 0 0;\n",
              "      width: 32px;\n",
              "    }\n",
              "\n",
              "    .colab-df-convert:hover {\n",
              "      background-color: #E2EBFA;\n",
              "      box-shadow: 0px 1px 2px rgba(60, 64, 67, 0.3), 0px 1px 3px 1px rgba(60, 64, 67, 0.15);\n",
              "      fill: #174EA6;\n",
              "    }\n",
              "\n",
              "    [theme=dark] .colab-df-convert {\n",
              "      background-color: #3B4455;\n",
              "      fill: #D2E3FC;\n",
              "    }\n",
              "\n",
              "    [theme=dark] .colab-df-convert:hover {\n",
              "      background-color: #434B5C;\n",
              "      box-shadow: 0px 1px 3px 1px rgba(0, 0, 0, 0.15);\n",
              "      filter: drop-shadow(0px 1px 2px rgba(0, 0, 0, 0.3));\n",
              "      fill: #FFFFFF;\n",
              "    }\n",
              "  </style>\n",
              "\n",
              "      <script>\n",
              "        const buttonEl =\n",
              "          document.querySelector('#df-3a01e6cb-38af-438f-89d8-6106cd358093 button.colab-df-convert');\n",
              "        buttonEl.style.display =\n",
              "          google.colab.kernel.accessAllowed ? 'block' : 'none';\n",
              "\n",
              "        async function convertToInteractive(key) {\n",
              "          const element = document.querySelector('#df-3a01e6cb-38af-438f-89d8-6106cd358093');\n",
              "          const dataTable =\n",
              "            await google.colab.kernel.invokeFunction('convertToInteractive',\n",
              "                                                     [key], {});\n",
              "          if (!dataTable) return;\n",
              "\n",
              "          const docLinkHtml = 'Like what you see? Visit the ' +\n",
              "            '<a target=\"_blank\" href=https://colab.research.google.com/notebooks/data_table.ipynb>data table notebook</a>'\n",
              "            + ' to learn more about interactive tables.';\n",
              "          element.innerHTML = '';\n",
              "          dataTable['output_type'] = 'display_data';\n",
              "          await google.colab.output.renderOutput(dataTable, element);\n",
              "          const docLink = document.createElement('div');\n",
              "          docLink.innerHTML = docLinkHtml;\n",
              "          element.appendChild(docLink);\n",
              "        }\n",
              "      </script>\n",
              "    </div>\n",
              "  </div>\n",
              "  "
            ]
          },
          "metadata": {},
          "execution_count": 14
        }
      ]
    },
    {
      "cell_type": "code",
      "source": [
        "data.isnull().sum()"
      ],
      "metadata": {
        "colab": {
          "base_uri": "https://localhost:8080/"
        },
        "id": "AyevlKqAOr4A",
        "outputId": "a595a9b5-87e3-4f35-8106-c7fee71bfbd4"
      },
      "execution_count": 15,
      "outputs": [
        {
          "output_type": "execute_result",
          "data": {
            "text/plain": [
              "Reporting Year                                                                           0\n",
              "Organization Number                                                                      0\n",
              "Organization Name                                                                        0\n",
              "City                                                                                  1468\n",
              "Country                                                                                  6\n",
              "CDP Region                                                                               0\n",
              "C40 City                                                                                 0\n",
              "GCoM City                                                                                0\n",
              "Access                                                                                   0\n",
              "Climate-related hazards                                                                  0\n",
              "Vulnerable population groups most exposed                                              203\n",
              "Sectors most exposed                                                                   606\n",
              "Describe the impacts on vulnerable populations and sectors                             245\n",
              "Proportion of population exposed to hazard                                             694\n",
              "Did this hazard significantly impact your jurisdiction before this reporting year?     122\n",
              "Current probability of hazard                                                           77\n",
              "Current magnitude of impact of hazard                                                   85\n",
              "Expected future change in hazard intensity                                              88\n",
              "Expected future change in hazard frequency                                             494\n",
              "Timeframe of expected future changes                                                   229\n",
              "Does the city have adaptation goal(s) and/or an adaptation plan?                         0\n",
              "What adaptation actions is the city implementing to address the hazard?               1522\n",
              "Population                                                                               0\n",
              "Population Year                                                                         92\n",
              "City Location                                                                         1780\n",
              "Last update                                                                              0\n",
              "dtype: int64"
            ]
          },
          "metadata": {},
          "execution_count": 15
        }
      ]
    },
    {
      "cell_type": "code",
      "source": [
        "unic = ['Organization Name', 'Climate-related hazards']\n",
        "\n",
        "for col in data [unic]:\n",
        "  print (col)\n",
        "  print (data[col].value_counts())\n",
        "  print('\\n')"
      ],
      "metadata": {
        "colab": {
          "base_uri": "https://localhost:8080/"
        },
        "id": "b7F8JCEOPO9N",
        "outputId": "4f0fef5a-be59-46ef-e8e2-13b458486882"
      },
      "execution_count": 18,
      "outputs": [
        {
          "output_type": "stream",
          "name": "stdout",
          "text": [
            "Organization Name\n",
            "Cipoletti                                  131\n",
            "Alberti                                     62\n",
            "Lujan de Cuyo                               55\n",
            "Villa El Chocón                             51\n",
            "Justiniano Posse                            48\n",
            "                                          ... \n",
            "Sorø Municipality                            1\n",
            "Wuhan Municipal People's Government          1\n",
            "Zhenjiang Municipal People's Government      1\n",
            "Bhavnagar Municipal Corporation              1\n",
            "San Pedro Sula                               1\n",
            "Name: Organization Name, Length: 836, dtype: int64\n",
            "\n",
            "\n",
            "Climate-related hazards\n",
            "Extreme heat                                                     491\n",
            "Heavy precipitation                                              386\n",
            "Drought                                                          383\n",
            "Urban flooding                                                   359\n",
            "River flooding                                                   250\n",
            "                                                                ... \n",
            "Other, please specify: Food Insecurity                             1\n",
            "Other, please specify: Inundaciones                                1\n",
            "Other, please specify: biological hazard, insect infestation       1\n",
            "Other, please specify: Biological Hazard - Insect infestation      1\n",
            "Other, please specify: Impacts on forestry 林業への影響                  1\n",
            "Name: Climate-related hazards, Length: 175, dtype: int64\n",
            "\n",
            "\n"
          ]
        }
      ]
    },
    {
      "cell_type": "code",
      "source": [],
      "metadata": {
        "id": "-NLSn4tpRfVN"
      },
      "execution_count": null,
      "outputs": []
    }
  ]
}